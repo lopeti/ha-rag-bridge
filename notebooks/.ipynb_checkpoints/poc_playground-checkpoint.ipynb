{
 "cells": [
  {
   "cell_type": "markdown",
   "id": "cffb22ba",
   "metadata": {},
   "source": [
    "# ha-rag-bridge Playground (Notebook)\n",
    "\n",
    "Rövid, önmagában futtatható notebook a retriever & prompt vizsgálatához.\n",
    "\n",
    "* Kérdés megadása\n",
    "* `top_k` paraméter állítása\n",
    "* JSON kimenet megjelenítése"
   ]
  },
  {
   "cell_type": "code",
   "execution_count": null,
   "id": "62b4cb9b",
   "metadata": {},
   "outputs": [],
   "source": [
    "import json\n",
    "\n",
    "from ha_rag_bridge import query\n",
    "\n",
    "question = \"Melyik eszköz felelős a hibrid rag-bridge-ért?\"\n",
    "response = query(question)\n",
    "\n",
    "print(json.dumps(response, indent=2, ensure_ascii=False))"
   ]
  },
  {
   "cell_type": "code",
   "execution_count": null,
   "id": "48dba0fa",
   "metadata": {},
   "outputs": [],
   "source": [
    "top_k = 5\n",
    "response = query(question, top_k=top_k)\n",
    "print(json.dumps(response, indent=2, ensure_ascii=False))"
   ]
  },
  {
   "cell_type": "markdown",
   "id": "9d672e22",
   "metadata": {},
   "source": [
    "## Prompt-preview\n",
    "(ha a pipeline `prompt` kulcsot is visszaad)"
   ]
  },
  {
   "cell_type": "code",
   "execution_count": null,
   "id": "74cdbea9",
   "metadata": {
    "lines_to_next_cell": 2
   },
   "outputs": [],
   "source": [
    "print(response.get(\"prompt\", \"<nincs prompt mező>\"))"
   ]
  }
 ],
 "metadata": {
  "jupytext": {
   "notebook_metadata_filter": "jupytext_format_version"
  },
  "kernelspec": {
   "display_name": "Python 3",
   "language": "python",
   "name": "python3"
  }
 },
 "nbformat": 4,
 "nbformat_minor": 5
}
