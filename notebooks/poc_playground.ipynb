{
 "cells": [
  {
   "cell_type": "code",
   "execution_count": 27,
   "id": "4e17b732",
   "metadata": {},
   "outputs": [
    {
     "name": "stdout",
     "output_type": "stream",
     "text": [
      "Python elérési út kibővítve az /app könyvtárral\n"
     ]
    }
   ],
   "source": [
    "import sys\n",
    "sys.path.append('/app')\n",
    "print(\"Python elérési út kibővítve az /app könyvtárral\")"
   ]
  },
  {
   "cell_type": "markdown",
   "id": "cffb22ba",
   "metadata": {},
   "source": [
    "# ha-rag-bridge Playground (Notebook)\n",
    "\n",
    "Rövid, önmagában futtatható notebook a retriever & prompt vizsgálatához.\n",
    "\n",
    "* Kérdés megadása\n",
    "* `top_k` paraméter állítása\n",
    "* JSON kimenet megjelenítése"
   ]
  },
  {
   "cell_type": "code",
   "execution_count": 28,
   "id": "62b4cb9b",
   "metadata": {},
   "outputs": [],
   "source": [
    "import json\n",
    "\n",
    "from ha_rag_bridge import query\n",
    "\n",
    "question = \"Milyen állapotban van a nappali lámpa és hogyan tudom felkapcsolni?\""
   ]
  },
  {
   "cell_type": "code",
   "execution_count": 30,
   "id": "48dba0fa",
   "metadata": {},
   "outputs": [
    {
     "name": "stdout",
     "output_type": "stream",
     "text": [
      "{\n",
      "  \"question\": \"Milyen állapotban van a nappali lámpa és hogyan tudom felkapcsolni?\",\n",
      "  \"top_k\": 5,\n",
      "  \"results\": [\n",
      "    {\n",
      "      \"document\": \"A nappali lámpa (light.living_room) egy fényerő-szabályozható okos világítás. Jelenleg kikapcsolt állapotban van.\",\n",
      "      \"score\": 0.92,\n",
      "      \"metadata\": {\n",
      "        \"source\": \"entities/light.living_room\",\n",
      "        \"entity_id\": \"light.living_room\",\n",
      "        \"domain\": \"light\",\n",
      "        \"friendly_name\": \"Nappali lámpa\"\n",
      "      }\n",
      "    },\n",
      "    {\n",
      "      \"document\": \"A világítások a Home Assistant-ben a 'light.turn_on' szolgáltatással kapcsolhatók be. A szolgáltatáshoz kötelező megadni az entity_id paramétert.\",\n",
      "      \"score\": 0.89,\n",
      "      \"metadata\": {\n",
      "        \"source\": \"services/light\"\n",
      "      }\n",
      "    },\n",
      "    {\n",
      "      \"document\": \"Az okos lámpák fényereje a brightness paraméterrel állítható 0-255 között.\",\n",
      "      \"score\": 0.84,\n",
      "      \"metadata\": {\n",
      "        \"source\": \"services/light\"\n",
      "      }\n",
      "    },\n",
      "    {\n",
      "      \"document\": \"A nappali területhez a következő entitások tartoznak: light.living_room, climate.living_room, media_player.living_room_tv\",\n",
      "      \"score\": 0.78,\n",
      "      \"metadata\": {\n",
      "        \"source\": \"areas/living_room\"\n",
      "      }\n",
      "    },\n",
      "    {\n",
      "      \"document\": \"A lámpák színhőmérséklete a color_temp paraméterrel állítható, Kelvin értékben.\",\n",
      "      \"score\": 0.76,\n",
      "      \"metadata\": {\n",
      "        \"source\": \"services/light\"\n",
      "      }\n",
      "    }\n",
      "  ],\n",
      "  \"prompt\": \"Te egy Home Assistant asszisztens vagy. Válaszolj a következő kérdésre a dokumentumok alapján: Milyen állapotban van a nappali lámpa és hogyan tudom felkapcsolni?\"\n",
      "}\n"
     ]
    }
   ],
   "source": [
    "# Try-except block to handle the NotImplementedError\n",
    "try:\n",
    "\ttop_k = 5\n",
    "\tresponse = query(question, top_k=top_k)\n",
    "except NotImplementedError:\n",
    "\t# Create a mock response if the query function is not implemented\n",
    "\tresponse = {\n",
    "\t\t\"question\": question,\n",
    "\t\t\"top_k\": top_k,\n",
    "\t\t\"results\": [\n",
    "\t\t\t{\n",
    "\t\t\t\t\"document\": \"A nappali lámpa (light.living_room) egy fényerő-szabályozható okos világítás. Jelenleg kikapcsolt állapotban van.\",\n",
    "\t\t\t\t\"score\": 0.92,\n",
    "\t\t\t\t\"metadata\": {\"source\": \"entities/light.living_room\", \"entity_id\": \"light.living_room\", \"domain\": \"light\", \"friendly_name\": \"Nappali lámpa\"}\n",
    "\t\t\t},\n",
    "\t\t\t{\n",
    "\t\t\t\t\"document\": \"A világítások a Home Assistant-ben a 'light.turn_on' szolgáltatással kapcsolhatók be. A szolgáltatáshoz kötelező megadni az entity_id paramétert.\",\n",
    "\t\t\t\t\"score\": 0.89,\n",
    "\t\t\t\t\"metadata\": {\"source\": \"services/light\"}\n",
    "\t\t\t},\n",
    "\t\t\t{\n",
    "\t\t\t\t\"document\": \"Az okos lámpák fényereje a brightness paraméterrel állítható 0-255 között.\",\n",
    "\t\t\t\t\"score\": 0.84,\n",
    "\t\t\t\t\"metadata\": {\"source\": \"services/light\"}\n",
    "\t\t\t},\n",
    "\t\t\t{\n",
    "\t\t\t\t\"document\": \"A nappali területhez a következő entitások tartoznak: light.living_room, climate.living_room, media_player.living_room_tv\",\n",
    "\t\t\t\t\"score\": 0.78,\n",
    "\t\t\t\t\"metadata\": {\"source\": \"areas/living_room\"}\n",
    "\t\t\t},\n",
    "\t\t\t{\n",
    "\t\t\t\t\"document\": \"A lámpák színhőmérséklete a color_temp paraméterrel állítható, Kelvin értékben.\",\n",
    "\t\t\t\t\"score\": 0.76,\n",
    "\t\t\t\t\"metadata\": {\"source\": \"services/light\"}\n",
    "\t\t\t}\n",
    "\t\t],\n",
    "\t\t\"prompt\": \"Te egy Home Assistant asszisztens vagy. Válaszolj a következő kérdésre a dokumentumok alapján: Milyen állapotban van a nappali lámpa és hogyan tudom felkapcsolni?\"\n",
    "\t}\n",
    "\n",
    "print(json.dumps(response, indent=2, ensure_ascii=False))"
   ]
  },
  {
   "cell_type": "markdown",
   "id": "9d672e22",
   "metadata": {},
   "source": [
    "## Prompt-preview\n",
    "(ha a pipeline `prompt` kulcsot is visszaad)"
   ]
  },
  {
   "cell_type": "code",
   "execution_count": 26,
   "id": "74cdbea9",
   "metadata": {
    "lines_to_next_cell": 2
   },
   "outputs": [
    {
     "name": "stdout",
     "output_type": "stream",
     "text": [
      "Te egy Home Assistant asszisztens vagy. Válaszolj a következő kérdésre a dokumentumok alapján: Milyen állapotban van a nappali lámpa és hogyan tudom felkapcsolni?\n"
     ]
    }
   ],
   "source": [
    "print(response.get(\"prompt\", \"<nincs prompt mező>\"))"
   ]
  },
  {
   "cell_type": "markdown",
   "id": "dc7523b1",
   "metadata": {},
   "source": [
    "## Magyarázat a példakérdéshez\n",
    "\n",
    "A notebookot frissítettem egy Home Assistant-specifikus példakérdéssel és válasszal, amely jobban illeszkedik a projekt kontextusához:\n",
    "\n",
    "1. A kérdés most egy Home Assistant eszközről (nappali lámpa) és annak vezérléséről szól\n",
    "2. A példaválasz tartalmazza:\n",
    "   - Az entitás aktuális állapotát (kikapcsolva)\n",
    "   - Entitás metaadatokat (entity_id, domain, friendly_name)\n",
    "   - Home Assistant szolgáltatás információkat (light.turn_on)\n",
    "   - Kapcsolódó entitások és területek információit\n",
    "   - Kiegészítő paramétereket (fényerő, színhőmérséklet)\n",
    "\n",
    "Ez a példa jobban tükrözi a RAG rendszer működését egy Home Assistant környezetben, ahol:\n",
    "- Lekérdezzük az entitásokat és azok metaadatait\n",
    "- Információt kapunk az elérhető szolgáltatásokról\n",
    "- Kontextuális információt kapunk a kapcsolódó entitásokról és területekről\n",
    "\n",
    "A `query()` függvény implementálása után ezeket a válaszokat valós Home Assistant adatokkal lehet majd helyettesíteni."
   ]
  }
 ],
 "metadata": {
  "jupytext": {
   "notebook_metadata_filter": "jupytext_format_version"
  },
  "kernelspec": {
   "display_name": ".venv",
   "language": "python",
   "name": "python3"
  },
  "language_info": {
   "codemirror_mode": {
    "name": "ipython",
    "version": 3
   },
   "file_extension": ".py",
   "mimetype": "text/x-python",
   "name": "python",
   "nbconvert_exporter": "python",
   "pygments_lexer": "ipython3",
   "version": "3.13.5"
  }
 },
 "nbformat": 4,
 "nbformat_minor": 5
}
